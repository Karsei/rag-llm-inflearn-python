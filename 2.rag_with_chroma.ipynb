{
 "cells": [
  {
   "metadata": {
    "ExecuteTime": {
     "end_time": "2025-03-09T12:24:54.385086Z",
     "start_time": "2025-03-09T12:24:54.380815Z"
    }
   },
   "cell_type": "code",
   "source": [
    "from dataclasses import dataclass\n",
    "\n",
    "from click import prompt\n",
    "\n",
    "\n",
    "@dataclass(frozen=True)\n",
    "class Constants:\n",
    "    TAX_PATH = \"./tax.docx\"\n",
    "    TAX_WITH_TABLE_PATH = \"./tax_with_table.docx\" # CHATGPT 는 테이블을 인식하지 못한다.\n",
    "    TAX_WITH_MARKDOWN_PATH = \"./tax_with_markdown.docx\" # 제일 적합\n",
    "    CHROMA_DB_PATH = \"./chroma\"\n",
    "    CHROMA_COLLECTION_NAME = \"chroma-tax\"\n",
    "    MODEL_CHATGPT = \"gpt-4o-mini\"\n",
    "    MODEL_EMBEDDING = \"text-embedding-3-large\"\n"
   ],
   "id": "1574cc20e0c7154e",
   "outputs": [],
   "execution_count": 21
  },
  {
   "metadata": {
    "ExecuteTime": {
     "end_time": "2025-03-09T12:24:58.708166Z",
     "start_time": "2025-03-09T12:24:56.943212Z"
    }
   },
   "cell_type": "code",
   "source": [
    "from langchain_community.document_loaders import Docx2txtLoader\n",
    "from langchain_text_splitters import RecursiveCharacterTextSplitter\n",
    "\n",
    "# 문서를 쪼갠다.\n",
    "text_splitter = RecursiveCharacterTextSplitter(\n",
    "    chunk_size=1500, # 내부 문서 객체 하나가 가질 수 있는 토큰 수\n",
    "    chunk_overlap=200 # 위/아래 문맥을 겹치게 하여 문서 객체 사이의 겹치는 토큰의 정도 (유사도를 위해)\n",
    ")\n",
    "\n",
    "loader = Docx2txtLoader(Constants.TAX_WITH_MARKDOWN_PATH)\n",
    "document = loader.load_and_split(text_splitter=text_splitter)\n",
    "len(document) # 187개"
   ],
   "id": "df48b6d333c406b4",
   "outputs": [
    {
     "data": {
      "text/plain": [
       "225"
      ]
     },
     "execution_count": 22,
     "metadata": {},
     "output_type": "execute_result"
    }
   ],
   "execution_count": 22
  },
  {
   "metadata": {
    "ExecuteTime": {
     "end_time": "2025-03-09T12:25:00.282470Z",
     "start_time": "2025-03-09T12:25:00.263316Z"
    }
   },
   "cell_type": "code",
   "source": [
    "# 임베딩을 한다.\n",
    "from dotenv import load_dotenv\n",
    "from langchain_openai import OpenAIEmbeddings\n",
    "\n",
    "load_dotenv()\n",
    "\n",
    "embedding = OpenAIEmbeddings(model=Constants.MODEL_EMBEDDING)"
   ],
   "id": "5a1e66b17a3c30d1",
   "outputs": [],
   "execution_count": 23
  },
  {
   "metadata": {
    "ExecuteTime": {
     "end_time": "2025-03-09T12:25:10.717957Z",
     "start_time": "2025-03-09T12:25:03.958840Z"
    }
   },
   "cell_type": "code",
   "source": [
    "import os\n",
    "import chromadb\n",
    "from langchain_chroma import Chroma\n",
    "\n",
    "exist_db = False\n",
    "if os.path.isdir(Constants.CHROMA_DB_PATH):\n",
    "    exist_db = True\n",
    "\n",
    "if exist_db:\n",
    "    database = Chroma(\n",
    "        collection_name=Constants.CHROMA_COLLECTION_NAME,\n",
    "        persist_directory=Constants.CHROMA_DB_PATH,\n",
    "        embedding_function=embedding\n",
    "    )\n",
    "else:\n",
    "    chromadb.api.client.SharedSystemClient.clear_system_cache()\n",
    "    database = Chroma.from_documents(\n",
    "        documents=document,\n",
    "        embedding=embedding,\n",
    "        collection_name=Constants.CHROMA_COLLECTION_NAME, # RDB로 치면 테이블 이름\n",
    "        persist_directory=Constants.CHROMA_DB_PATH # 데이터 저장 위치\n",
    "    )"
   ],
   "id": "febbcb1db9179c48",
   "outputs": [],
   "execution_count": 24
  },
  {
   "metadata": {
    "ExecuteTime": {
     "end_time": "2025-03-09T12:29:08.534252Z",
     "start_time": "2025-03-09T12:29:07.399138Z"
    }
   },
   "cell_type": "code",
   "source": [
    "# 소득세 자료에는 \"거주자\" 로 표현되어 있어서 관련이 없어 보인다.\n",
    "query = \"연봉 5천만원인 직장인의 소득세는 얼마인가요?\"\n",
    "# 질문을 바꾸면 제55조가 맨 위로 나오게 되어 관련도가 높음을 알 수 있다.\n",
    "# 벡터 스토어에 저장을 제대로 하는 것도 중요하지만, 질문을 제대로 하는 것도 중요하다.\n",
    "#query = \"연봉 5천만원인 거주자의 소득세는 얼마인가요?\"\n",
    "\n",
    "# 임베딩을 활용하여 알아서 유사도 검색 후 자료를 가져온다.\n",
    "# 기본적으로 4개를 가져오는데 k 값을 바꾸면 된다.\n",
    "# retrieved_docs = database.similarity_search(query, k=4)\n",
    "\n",
    "# database 상관없이 가져오려면 아래처럼 하면 된다.\n",
    "retriever = database.as_retriever(search_kwargs={'k': 4})\n",
    "retrieved_docs = retriever.invoke(query)\n",
    "\n",
    "retrieved_docs"
   ],
   "id": "6d39c55438174712",
   "outputs": [
    {
     "data": {
      "text/plain": [
       "[Document(id='184178b1-4e29-4ac0-aaa1-0b728099c8ba', metadata={'source': './tax_with_markdown.docx'}, page_content='제55조(세율) ①거주자의 종합소득에 대한 소득세는 해당 연도의 종합소득과세표준에 다음의 세율을 적용하여 계산한 금액(이하 “종합소득산출세액”이라 한다)을 그 세액으로 한다. <개정 2014. 1. 1., 2016. 12. 20., 2017. 12. 19., 2020. 12. 29., 2022. 12. 31.>\\n\\n| 종합소득 과세표준          | 세율                                         |\\n\\n|-------------------|--------------------------------------------|\\n\\n| 1,400만원 이하     | 과세표준의 6퍼센트                             |\\n\\n| 1,400만원 초과     5,000만원 이하     | 84만원 + (1,400만원을 초과하는 금액의 15퍼센트)  |\\n\\n| 5,000만원 초과   8,800만원 이하     | 624만원 + (5,000만원을 초과하는 금액의 24퍼센트) |\\n\\n| 8,800만원 초과 1억5천만원 이하    | 3,706만원 + (8,800만원을 초과하는 금액의 35퍼센트)|\\n\\n| 1억5천만원 초과 3억원 이하         | 3,706만원 + (1억5천만원을 초과하는 금액의 38퍼센트)|\\n\\n| 3억원 초과    5억원 이하         | 9,406만원 + (3억원을 초과하는 금액의 38퍼센트)   |\\n\\n| 5억원 초과      10억원 이하        | 1억 7,406만원 + (5억원을 초과하는 금액의 42퍼센트)|\\n\\n| 10억원 초과        | 3억 8,406만원 + (10억원을 초과하는 금액의 45퍼센트)|\\n\\n\\n\\n\\n\\n② 거주자의 퇴직소득에 대한 소득세는 다음 각 호의 순서에 따라 계산한 금액(이하 “퇴직소득 산출세액”이라 한다)으로 한다.<개정 2013. 1. 1., 2014. 12. 23.>\\n\\n1. 해당 과세기간의 퇴직소득과세표준에 제1항의 세율을 적용하여 계산한 금액\\n\\n2. 제1호의 금액을 12로 나눈 금액에 근속연수를 곱한 금액\\n\\n3. 삭제<2014. 12. 23.>\\n\\n[전문개정 2009. 12. 31.]\\n\\n\\n\\n제2관 세액공제 <개정 2009. 12. 31.>\\n\\n\\n\\n제56조(배당세액공제) ① 거주자의 종합소득금액에 제17조제3항 각 호 외의 부분 단서가 적용되는 배당소득금액이 합산되어 있는 경우에는 같은 항 각 호 외의 부분 단서에 따라 해당 과세기간의 총수입금액에 더한 금액에 해당하는 금액을 종합소득 산출세액에서 공제한다. <개정 2009. 12. 31.>\\n\\n② 제1항에 따른 공제를 “배당세액공제”라 한다.<개정 2009. 12. 31.>\\n\\n③ 삭제<2003. 12. 30.>\\n\\n④ 제1항을 적용할 때 배당세액공제의 대상이 되는 배당소득금액은 제14조제2항의 종합소득과세표준에 포함된 배당소득금액으로서 이자소득등의 종합과세기준금액을 초과하는 것으로 한다.<개정 2009. 12. 31.>\\n\\n⑤ 삭제<2006. 12. 30.>'),\n",
       " Document(id='60e01ef5-921c-4ed5-b507-fda90aaa8f5d', metadata={'source': './tax_with_markdown.docx'}, page_content='3. 「자본시장과 금융투자업에 관한 법률」 제251조제1항에 따른 집합투자업겸영보험회사의 특별계정\\n\\n③ 비거주자의 소득은 제119조에 따라 구분한다.\\n\\n[전문개정 2009. 12. 31.]\\n\\n\\n\\n제4조(소득의 구분) ① 거주자의 소득은 다음 각 호와 같이 구분한다. <개정 2013. 1. 1., 2020. 12. 29.>\\n\\n1. 종합소득\\n\\n\\u3000이 법에 따라 과세되는 모든 소득에서 제2호, 제2호의2 및 제3호에 따른 소득을 제외한 소득으로서 다음 각 목의 소득을 합산한 것\\n\\n가. 이자소득\\n\\n나. 배당소득\\n\\n다. 사업소득\\n\\n라. 근로소득\\n\\n마. 연금소득\\n\\n바. 기타소득\\n\\n2. 퇴직소득\\n\\n2의2. 금융투자소득\\n\\n3. 양도소득\\n\\n② 제1항에 따른 소득을 구분할 때 다음 각 호의 신탁을 제외한 신탁의 이익은 「신탁법」 제2조에 따라 수탁자에게 이전되거나 그 밖에 처분된 재산권에서 발생하는 소득의 내용별로 구분한다.<개정 2011. 7. 25., 2020. 12. 29., 2022. 12. 31.>\\n\\n1. 「법인세법」 제5조제2항에 따라 신탁재산에 귀속되는 소득에 대하여 그 신탁의 수탁자가 법인세를 납부하는 신탁\\n\\n2. 「자본시장과 금융투자업에 관한 법률」 제9조제18항제1호에 따른 투자신탁. 다만, 2024년 12월 31일까지는 이 법 제17조제1항제5호에 따른 집합투자기구로 한정한다.\\n\\n3. 「자본시장과 금융투자업에 관한 법률」 제251조제1항에 따른 집합투자업겸영보험회사의 특별계정\\n\\n③ 비거주자의 소득은 제119조에 따라 구분한다.\\n\\n[전문개정 2009. 12. 31.]\\n\\n[시행일: 2025. 1. 1.] 제4조제1항제1호, 제4조제1항제2호의2\\n\\n\\n\\n제5조(과세기간) ① 소득세의 과세기간은 1월 1일부터 12월 31일까지 1년으로 한다.\\n\\n② 거주자가 사망한 경우의 과세기간은 1월 1일부터 사망한 날까지로 한다.\\n\\n③ 거주자가 주소 또는 거소를 국외로 이전(이하 “출국”이라 한다)하여 비거주자가 되는 경우의 과세기간은 1월 1일부터 출국한 날까지로 한다.\\n\\n[전문개정 2009. 12. 31.]\\n\\n\\n\\n제6조(납세지) ① 거주자의 소득세 납세지는 그 주소지로 한다. 다만, 주소지가 없는 경우에는 그 거소지로 한다.\\n\\n② 비거주자의 소득세 납세지는 제120조에 따른 국내사업장(이하 “국내사업장”이라 한다)의 소재지로 한다. 다만, 국내사업장이 둘 이상 있는 경우에는 주된 국내사업장의 소재지로 하고, 국내사업장이 없는 경우에는 국내원천소득이 발생하는 장소로 한다.<개정 2013. 1. 1.>\\n\\n③ 납세지가 불분명한 경우에는 대통령령으로 정하는 바에 따라 납세지를 결정한다.\\n\\n[전문개정 2009. 12. 31.]\\n\\n\\n\\n제7조(원천징수 등의 경우의 납세지) ① 원천징수하는 소득세의 납세지는 다음 각 호에 따른다. <개정 2012. 1. 1., 2023. 12. 31.>'),\n",
       " Document(id='405d5a9a-fcf4-4a7d-aa5b-22a0e9e03130', metadata={'source': './tax_with_markdown.docx'}, page_content='③ 제1항 및 제2항에 따른 이자등 상당액의 계산방법과 그 밖에 필요한 사항은 대통령령으로 정한다.\\n\\n[전문개정 2009. 12. 31.]\\n\\n\\n\\n제46조(채권 등에 대한 소득금액의 계산 특례) ① 거주자가 제16조제1항제1호ㆍ제2호ㆍ제2호의2ㆍ제5호 및 제6호에 해당하는 채권 또는 증권과 타인에게 양도가 가능한 증권으로서 대통령령으로 정하는 것(이하 이 조, 제133조의2 및 제156조의3에서 “채권등”이라 한다)의 발행법인으로부터 해당 채권등에서 발생하는 이자 또는 할인액(이하 이 조, 제133조의2 및 제156조의3에서 “이자등”이라 한다)을 지급[전환사채의 주식전환, 교환사채의 주식교환 및 신주인수권부사채의 신주인수권행사(신주 발행대금을 해당 신주인수권부사채로 납입하는 경우만 해당한다) 및 「자본시장과 금융투자업에 관한 법률」 제4조제7항제3호ㆍ제3호의2 및 제3호의3에 해당하는 채권등이 주식으로 전환ㆍ상환되는 경우를 포함한다. 이하 같다]받거나 해당 채권등을 매도(증여ㆍ변제 및 출자 등으로 채권등의 소유권 또는 이자소득의 수급권의 변동이 있는 경우와 매도를 위탁하거나 중개 또는 알선시키는 경우를 포함하되, 환매조건부채권매매거래 등 대통령령으로 정하는 경우는 제외한다. 이하 제133조의2에서 같다)하는 경우에는 거주자에게 그 보유기간별로 귀속되는 이자등 상당액을 해당 거주자의 제16조에 따른 이자소득으로 보아 소득금액을 계산한다. <개정 2010. 12. 27., 2012. 1. 1., 2020. 12. 29.>\\n\\n② 제1항을 적용할 때 해당 거주자가 해당 채권등을 보유한 기간을 대통령령으로 정하는 바에 따라 입증하지 못하는 경우에는 제133조의2제1항에 따른 원천징수기간의 이자등 상당액이 해당 거주자에게 귀속되는 것으로 보아 소득금액을 계산한다.<개정 2010. 12. 27.>\\n\\n③ 제1항 및 제2항에 따른 이자등 상당액의 계산방법과 그 밖에 필요한 사항은 대통령령으로 정한다.\\n\\n[전문개정 2009. 12. 31.]\\n\\n[시행일: 2025. 1. 1.]  제46조제1항\\n\\n\\n\\n제46조의2(중도 해지로 인한 이자소득금액 계산의 특례) 종합소득과세표준 확정신고 후 예금 또는 신탁계약의 중도 해지로 이미 지난 과세기간에 속하는 이자소득금액이 감액된 경우 그 중도 해지일이 속하는 과세기간의 종합소득금액에 포함된 이자소득금액에서 그 감액된 이자소득금액을 뺄 수 있다. 다만, 「국세기본법」 제45조의2에 따라 과세표준 및 세액의 경정(更正)을 청구한 경우에는 그러하지 아니하다.\\n\\n[전문개정 2009. 12. 31.]\\n\\n\\n\\n제5관 근로소득공제ㆍ연금소득공제 및 퇴직소득공제 <개정 2009. 12. 31.>\\n\\n\\n\\n제47조(근로소득공제) ①근로소득이 있는 거주자에 대해서는 해당 과세기간에 받는 총급여액에서 다음의 금액을 공제한다. 다만, 공제액이 2천만원을 초과하는 경우에는 2천만원을 공제한다. <개정 2012. 1. 1., 2014. 1. 1., 2019. 12. 31.>'),\n",
       " Document(id='f8098e12-e831-44d4-bb06-544a0c4e88b7', metadata={'source': './tax_with_markdown.docx'}, page_content='⑤ 공동으로 소유한 자산에 대한 양도소득금액을 계산하는 경우에는 해당 자산을 공동으로 소유하는 각 거주자가 납세의무를 진다.<신설 2017. 12. 19., 2020. 12. 29.>\\n\\n[전문개정 2009. 12. 31.]\\n\\n[제2조에서 이동 <2009. 12. 31.>]\\n\\n\\n\\n제2조의3(신탁재산 귀속 소득에 대한 납세의무의 범위) ① 신탁재산에 귀속되는 소득은 그 신탁의 이익을 받을 수익자(수익자가 사망하는 경우에는 그 상속인)에게 귀속되는 것으로 본다.\\n\\n② 제1항에도 불구하고 위탁자가 신탁재산을 실질적으로 통제하는 등 대통령령으로 정하는 요건을 충족하는 신탁의 경우에는 그 신탁재산에 귀속되는 소득은 위탁자에게 귀속되는 것으로 본다.<개정 2023. 12. 31.>\\n\\n[본조신설 2020. 12. 29.]\\n\\n\\n\\n제3조(과세소득의 범위) ① 거주자에게는 이 법에서 규정하는 모든 소득에 대해서 과세한다. 다만, 해당 과세기간 종료일 10년 전부터 국내에 주소나 거소를 둔 기간의 합계가 5년 이하인 외국인 거주자에게는 과세대상 소득 중 국외에서 발생한 소득의 경우 국내에서 지급되거나 국내로 송금된 소득에 대해서만 과세한다.\\n\\n② 비거주자에게는 제119조에 따른 국내원천소득에 대해서만과세한다.\\n\\n③ 제1항 및 제2항을 적용하는 경우 「조세특례제한법」 제100조의14제2호의 동업자에게는 같은 법 제100조의18제1항에 따라 배분받은 소득 및 같은 법 제100조의22제1항에 따라 분배받은 자산의 시가 중 분배일의 지분가액을 초과하여 발생하는 소득에 대하여 과세한다.\\n\\n[전문개정 2009. 12. 31.]\\n\\n\\n\\n제4조(소득의 구분) ① 거주자의 소득은 다음 각 호와 같이 구분한다. <개정 2013. 1. 1.>\\n\\n1. 종합소득\\n\\n\\u3000이 법에 따라 과세되는 모든 소득에서 제2호 및 제3호에 따른 소득을 제외한 소득으로서 다음 각 목의 소득을 합산한 것\\n\\n가. 이자소득\\n\\n나. 배당소득\\n\\n다. 사업소득\\n\\n라. 근로소득\\n\\n마. 연금소득\\n\\n바. 기타소득\\n\\n2. 퇴직소득\\n\\n3. 양도소득\\n\\n② 제1항에 따른 소득을 구분할 때 다음 각 호의 신탁을 제외한 신탁의 이익은 「신탁법」 제2조에 따라 수탁자에게 이전되거나 그 밖에 처분된 재산권에서 발생하는 소득의 내용별로 구분한다.<개정 2011. 7. 25., 2020. 12. 29., 2022. 12. 31.>\\n\\n1. 「법인세법」 제5조제2항에 따라 신탁재산에 귀속되는 소득에 대하여 그 신탁의 수탁자가 법인세를 납부하는 신탁\\n\\n2. 「자본시장과 금융투자업에 관한 법률」 제9조제18항제1호에 따른 투자신탁. 다만, 2024년 12월 31일까지는 이 법 제17조제1항제5호에 따른 집합투자기구로 한정한다.\\n\\n3. 「자본시장과 금융투자업에 관한 법률」 제251조제1항에 따른 집합투자업겸영보험회사의 특별계정\\n\\n③ 비거주자의 소득은 제119조에 따라 구분한다.\\n\\n[전문개정 2009. 12. 31.]')]"
      ]
     },
     "execution_count": 30,
     "metadata": {},
     "output_type": "execute_result"
    }
   ],
   "execution_count": 30
  },
  {
   "metadata": {
    "ExecuteTime": {
     "end_time": "2025-03-09T12:25:22.269115Z",
     "start_time": "2025-03-09T12:25:22.251225Z"
    }
   },
   "cell_type": "code",
   "source": [
    "from langchain_openai import ChatOpenAI\n",
    "\n",
    "llm = ChatOpenAI(model=Constants.MODEL_CHATGPT)"
   ],
   "id": "bf00cef3408b051f",
   "outputs": [],
   "execution_count": 26
  },
  {
   "metadata": {
    "ExecuteTime": {
     "end_time": "2025-03-09T12:42:25.860823Z",
     "start_time": "2025-03-09T12:42:22.026646Z"
    }
   },
   "cell_type": "code",
   "source": [
    "from langchain_core.prompts import PromptTemplate\n",
    "\n",
    "template = \"\"\"[Identity]\n",
    "- 당신은 최고의 한국 소득세 전문가 입니다.\n",
    "- [Context]를 참고해서 사용자의 질문에 답변해주세요.\n",
    "\n",
    "[Context]\n",
    "{retrieved_docs}\n",
    "\n",
    "Question: {query}\n",
    "\"\"\"\n",
    "\n",
    "rag_template = PromptTemplate(\n",
    "    template=template,\n",
    "    input_variables=['retrieved_docs', 'query'])\n",
    "rag_chain = rag_template | llm # LCEL\n",
    "ai_message = rag_chain.invoke({\n",
    "    'retrieved_docs': retrieved_docs,\n",
    "    'query': query\n",
    "})"
   ],
   "id": "163e486e748cd5fa",
   "outputs": [],
   "execution_count": 45
  },
  {
   "metadata": {
    "ExecuteTime": {
     "end_time": "2025-03-02T13:57:59.731215Z",
     "start_time": "2025-03-02T13:57:53.097082Z"
    }
   },
   "cell_type": "code",
   "source": [
    "# prompt = f\"\"\"[Identity]\n",
    "# - 당신은 최고의 한국 소득세 전문가 입니다.\n",
    "# - [Context]를 참고해서 사용자의 질문에 답변해주세요.\n",
    "#\n",
    "# [Context]\n",
    "# {retrieved_docs}\n",
    "#\n",
    "# Question: {query}\n",
    "# \"\"\"\n",
    "\n",
    "# ai_message = llm.invoke(prompt)"
   ],
   "id": "4a6329bbf0d2200",
   "outputs": [],
   "execution_count": 47
  },
  {
   "metadata": {
    "ExecuteTime": {
     "end_time": "2025-03-09T12:42:41.539552Z",
     "start_time": "2025-03-09T12:42:41.535597Z"
    }
   },
   "cell_type": "code",
   "source": "ai_message.content",
   "id": "efcf3e47576084f4",
   "outputs": [
    {
     "data": {
      "text/plain": [
       "'연봉 5천만원인 직장인의 소득세를 계산하기 위해 우선 해당 연봉에 맞는 종합소득세율 구조를 확인해야 합니다. 연봉 5천만원은 다음의 구간에 해당합니다.\\n\\n- 1,400만원 초과 5,000만원 이하: 84만원 + (1,400만원을 초과하는 금액의 15퍼센트)\\n\\n따라서, 세금을 계산해보겠습니다.\\n\\n1. 1,400만원에 대한 세금: 84만원\\n2. 5,000만원에서 1,400만원을 뺀 금액: 5,000만원 - 1,400만원 = 3,600만원\\n3. 이 금액에 15%를 곱합니다: 3,600만원 × 15% = 540만원\\n\\n따라서, 종합소득세는 다음과 같습니다.\\n\\n\\\\[ \\n\\\\text{총 세액} = 84만원 + 540만원 = 624만원 \\n\\\\]\\n\\n결론적으로, 연봉 5천만원인 직장인의 소득세는 **624만원**입니다.'"
      ]
     },
     "execution_count": 46,
     "metadata": {},
     "output_type": "execute_result"
    }
   ],
   "execution_count": 46
  },
  {
   "metadata": {
    "ExecuteTime": {
     "end_time": "2025-03-09T12:42:00.380138Z",
     "start_time": "2025-03-09T12:42:00.376695Z"
    }
   },
   "cell_type": "code",
   "source": [
    "from langchain_core.output_parsers import StrOutputParser\n",
    "from langchain_core.prompts import ChatPromptTemplate\n",
    "\n",
    "dictionary = [\"사람을 나타내는 표현 -> 거주자\"]\n",
    "\n",
    "prompt = ChatPromptTemplate.from_template(f\"\"\"\n",
    "    사용자의 질문을 보고, 우리의 사전을 참고해서 사용자의 질문을 변경해주세요.\n",
    "    만약 변경할 필요가 없다고 판단되면, 사용자의 질문을 변경하지 않아도 됩니다.\n",
    "    그런 경우에는 질문만 리턴해주세요\n",
    "    사전: {dictionary}\n",
    "\n",
    "    질문: {{query}}\n",
    "\"\"\")\n",
    "dictionary_chain = prompt | llm | StrOutputParser()"
   ],
   "id": "ba1b59472660d5f4",
   "outputs": [],
   "execution_count": 40
  },
  {
   "metadata": {
    "ExecuteTime": {
     "end_time": "2025-03-09T12:48:08.288797Z",
     "start_time": "2025-03-09T12:48:07.348486Z"
    }
   },
   "cell_type": "code",
   "source": "new_question = dictionary_chain.invoke({\"query\": query})",
   "id": "714532f908c6efdd",
   "outputs": [],
   "execution_count": 55
  },
  {
   "metadata": {
    "ExecuteTime": {
     "end_time": "2025-03-09T12:48:09.488855Z",
     "start_time": "2025-03-09T12:48:09.485440Z"
    }
   },
   "cell_type": "code",
   "source": "query",
   "id": "8ea70ca9fddb336e",
   "outputs": [
    {
     "data": {
      "text/plain": [
       "'연봉 5천만원인 직장인의 소득세는 얼마인가요?'"
      ]
     },
     "execution_count": 56,
     "metadata": {},
     "output_type": "execute_result"
    }
   ],
   "execution_count": 56
  },
  {
   "metadata": {
    "ExecuteTime": {
     "end_time": "2025-03-09T12:48:11.082658Z",
     "start_time": "2025-03-09T12:48:11.078756Z"
    }
   },
   "cell_type": "code",
   "source": "new_question",
   "id": "37c9e7d6d0e91e7c",
   "outputs": [
    {
     "data": {
      "text/plain": [
       "'변경된 질문: 연봉 5천만원인 거주자의 소득세는 얼마인가요?'"
      ]
     },
     "execution_count": 57,
     "metadata": {},
     "output_type": "execute_result"
    }
   ],
   "execution_count": 57
  },
  {
   "metadata": {
    "ExecuteTime": {
     "end_time": "2025-03-09T12:54:47.767080Z",
     "start_time": "2025-03-09T12:54:47.764521Z"
    }
   },
   "cell_type": "code",
   "source": "tax_chain = {\"query\": dictionary_chain, \"retrieved_docs\": lambda x: retrieved_docs} | rag_chain",
   "id": "9f9f1c7c05e3eccf",
   "outputs": [],
   "execution_count": 68
  },
  {
   "metadata": {
    "ExecuteTime": {
     "end_time": "2025-03-09T12:54:54.264736Z",
     "start_time": "2025-03-09T12:54:48.882468Z"
    }
   },
   "cell_type": "code",
   "source": "ai_response = tax_chain.invoke({'retrieved_docs': retrieved_docs, \"query\": query})",
   "id": "e6fa014e04095752",
   "outputs": [],
   "execution_count": 69
  },
  {
   "metadata": {
    "ExecuteTime": {
     "end_time": "2025-03-09T12:54:55.443319Z",
     "start_time": "2025-03-09T12:54:55.439668Z"
    }
   },
   "cell_type": "code",
   "source": "ai_response",
   "id": "d15b3d519e5b4d80",
   "outputs": [
    {
     "data": {
      "text/plain": [
       "AIMessage(content='연봉 5천만원인 거주자의 소득세를 계산해보겠습니다. 2023년 소득세 세율에 따르면, 5천만원은 다음의 구간에 해당합니다:\\n\\n1. **5,000만원 초과 8,800만원 이하**: \\n   - 세액: 624만원 + (5,000만원을 초과하는 금액의 24퍼센트)\\n\\n여기서 5,000만원을 초과한 금액은 5,000만원에서 5,000만원을 제외한 0원이므로, 여기서 소득세를 계산합니다.\\n\\n따라서 소득세는:\\n- 기본 세액: 624만원\\n- 초과 금액: 0원 × 24% = 0원\\n\\n이를 통해 최종 소득세는 624만원입니다.\\n\\n결론적으로, 연봉 5천만원인 거주자의 소득세는 **624만원**입니다.', additional_kwargs={'refusal': None}, response_metadata={'token_usage': {'completion_tokens': 205, 'prompt_tokens': 4122, 'total_tokens': 4327, 'completion_tokens_details': {'accepted_prediction_tokens': 0, 'audio_tokens': 0, 'reasoning_tokens': 0, 'rejected_prediction_tokens': 0}, 'prompt_tokens_details': {'audio_tokens': 0, 'cached_tokens': 0}}, 'model_name': 'gpt-4o-mini-2024-07-18', 'system_fingerprint': 'fp_06737a9306', 'finish_reason': 'stop', 'logprobs': None}, id='run-0677d9a4-83cb-4d12-8973-2c001a43e522-0', usage_metadata={'input_tokens': 4122, 'output_tokens': 205, 'total_tokens': 4327, 'input_token_details': {'audio': 0, 'cache_read': 0}, 'output_token_details': {'audio': 0, 'reasoning': 0}})"
      ]
     },
     "execution_count": 70,
     "metadata": {},
     "output_type": "execute_result"
    }
   ],
   "execution_count": 70
  }
 ],
 "metadata": {
  "kernelspec": {
   "display_name": "Python 3",
   "language": "python",
   "name": "python3"
  },
  "language_info": {
   "codemirror_mode": {
    "name": "ipython",
    "version": 2
   },
   "file_extension": ".py",
   "mimetype": "text/x-python",
   "name": "python",
   "nbconvert_exporter": "python",
   "pygments_lexer": "ipython2",
   "version": "2.7.6"
  }
 },
 "nbformat": 4,
 "nbformat_minor": 5
}
